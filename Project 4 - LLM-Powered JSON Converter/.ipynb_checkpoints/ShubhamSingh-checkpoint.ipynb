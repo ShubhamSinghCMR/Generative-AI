{
 "cells": [
  {
   "cell_type": "markdown",
   "id": "08494430-9063-4b39-b02c-6da009e57a4e",
   "metadata": {},
   "source": [
    "# Assignment: Create an LLM-powered application that takes user queries related to company performance metrics and converts them into a structured JSON format."
   ]
  },
  {
   "cell_type": "markdown",
   "id": "2d38a152-e784-4d3e-8698-ead47fcc559d",
   "metadata": {},
   "source": [
    "# Step 1: Install required libraries"
   ]
  },
  {
   "cell_type": "code",
   "execution_count": 1,
   "id": "59b01836-1266-408e-b654-b03be5e7bd09",
   "metadata": {
    "scrolled": true
   },
   "outputs": [
    {
     "name": "stdout",
     "output_type": "stream",
     "text": [
      "Requirement already satisfied: groq in c:\\users\\dark lord\\appdata\\local\\programs\\python\\python312\\lib\\site-packages (0.13.1)\n",
      "Requirement already satisfied: anyio<5,>=3.5.0 in c:\\users\\dark lord\\appdata\\local\\programs\\python\\python312\\lib\\site-packages (from groq) (4.7.0)\n",
      "Requirement already satisfied: distro<2,>=1.7.0 in c:\\users\\dark lord\\appdata\\local\\programs\\python\\python312\\lib\\site-packages (from groq) (1.9.0)\n",
      "Requirement already satisfied: httpx<1,>=0.23.0 in c:\\users\\dark lord\\appdata\\local\\programs\\python\\python312\\lib\\site-packages (from groq) (0.28.1)\n",
      "Requirement already satisfied: pydantic<3,>=1.9.0 in c:\\users\\dark lord\\appdata\\local\\programs\\python\\python312\\lib\\site-packages (from groq) (2.10.4)\n",
      "Requirement already satisfied: sniffio in c:\\users\\dark lord\\appdata\\local\\programs\\python\\python312\\lib\\site-packages (from groq) (1.3.1)\n",
      "Requirement already satisfied: typing-extensions<5,>=4.10 in c:\\users\\dark lord\\appdata\\local\\programs\\python\\python312\\lib\\site-packages (from groq) (4.12.2)\n",
      "Requirement already satisfied: idna>=2.8 in c:\\users\\dark lord\\appdata\\local\\programs\\python\\python312\\lib\\site-packages (from anyio<5,>=3.5.0->groq) (3.10)\n",
      "Requirement already satisfied: certifi in c:\\users\\dark lord\\appdata\\local\\programs\\python\\python312\\lib\\site-packages (from httpx<1,>=0.23.0->groq) (2024.12.14)\n",
      "Requirement already satisfied: httpcore==1.* in c:\\users\\dark lord\\appdata\\local\\programs\\python\\python312\\lib\\site-packages (from httpx<1,>=0.23.0->groq) (1.0.7)\n",
      "Requirement already satisfied: h11<0.15,>=0.13 in c:\\users\\dark lord\\appdata\\local\\programs\\python\\python312\\lib\\site-packages (from httpcore==1.*->httpx<1,>=0.23.0->groq) (0.14.0)\n",
      "Requirement already satisfied: annotated-types>=0.6.0 in c:\\users\\dark lord\\appdata\\local\\programs\\python\\python312\\lib\\site-packages (from pydantic<3,>=1.9.0->groq) (0.7.0)\n",
      "Requirement already satisfied: pydantic-core==2.27.2 in c:\\users\\dark lord\\appdata\\local\\programs\\python\\python312\\lib\\site-packages (from pydantic<3,>=1.9.0->groq) (2.27.2)\n"
     ]
    },
    {
     "name": "stderr",
     "output_type": "stream",
     "text": [
      "WARNING: Ignoring invalid distribution ~ (C:\\Users\\DArk Lord\\AppData\\Local\\Programs\\Python\\Python312\\Lib\\site-packages)\n",
      "WARNING: Ignoring invalid distribution ~upyterlab (C:\\Users\\DArk Lord\\AppData\\Local\\Programs\\Python\\Python312\\Lib\\site-packages)\n",
      "WARNING: Ignoring invalid distribution ~ (C:\\Users\\DArk Lord\\AppData\\Local\\Programs\\Python\\Python312\\Lib\\site-packages)\n",
      "WARNING: Ignoring invalid distribution ~upyterlab (C:\\Users\\DArk Lord\\AppData\\Local\\Programs\\Python\\Python312\\Lib\\site-packages)\n",
      "WARNING: Ignoring invalid distribution ~ (C:\\Users\\DArk Lord\\AppData\\Local\\Programs\\Python\\Python312\\Lib\\site-packages)\n",
      "WARNING: Ignoring invalid distribution ~upyterlab (C:\\Users\\DArk Lord\\AppData\\Local\\Programs\\Python\\Python312\\Lib\\site-packages)\n"
     ]
    }
   ],
   "source": [
    "!pip install groq"
   ]
  },
  {
   "cell_type": "markdown",
   "id": "07deb280-c0fa-419d-98cb-8d0fd0af84f8",
   "metadata": {},
   "source": [
    "# Step 2: Import Required Modules"
   ]
  },
  {
   "cell_type": "code",
   "execution_count": 2,
   "id": "b15b0a00-7353-408f-a81a-7e6e434413be",
   "metadata": {},
   "outputs": [],
   "source": [
    "import os\n",
    "import asyncio\n",
    "import logging\n",
    "import json\n",
    "import re\n",
    "from groq import Groq"
   ]
  },
  {
   "cell_type": "markdown",
   "id": "6beb722f-0ac8-47bf-8479-cfe95ac56094",
   "metadata": {},
   "source": [
    "# Step 3: Initialize logging"
   ]
  },
  {
   "cell_type": "code",
   "execution_count": 3,
   "id": "10c27587-4f42-43d2-9c24-1f372eb585e0",
   "metadata": {},
   "outputs": [],
   "source": [
    "logging.basicConfig(level=logging.INFO)\n",
    "logger = logging.getLogger(__name__)\n",
    "logging.getLogger(\"httpx\").setLevel(logging.WARNING)"
   ]
  },
  {
   "cell_type": "markdown",
   "id": "ad47e71c-1a12-4fde-827f-05103cdbca65",
   "metadata": {},
   "source": [
    "# Step 4: Setup the API Access Key"
   ]
  },
  {
   "cell_type": "code",
   "execution_count": 4,
   "id": "f568f969-6b1c-49c9-84dc-5dd763bd3331",
   "metadata": {},
   "outputs": [],
   "source": [
    "os.environ[\"GROQ_API_KEY\"] = \"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\""
   ]
  },
  {
   "cell_type": "markdown",
   "id": "2465b148-180b-4db7-b8ab-a3c35abf5b02",
   "metadata": {},
   "source": [
    "# Step 5: Initialize the Groq client"
   ]
  },
  {
   "cell_type": "code",
   "execution_count": 5,
   "id": "1094d1e2-e9c9-47e5-914b-add35de3007a",
   "metadata": {},
   "outputs": [],
   "source": [
    "client = Groq(api_key=os.environ.get(\"GROQ_API_KEY\"))"
   ]
  },
  {
   "cell_type": "markdown",
   "id": "c5cccbd0-1bdd-4090-ae83-607800c921c5",
   "metadata": {},
   "source": [
    "# Step 6: Function to parse the LLM response and convert it to JSON"
   ]
  },
  {
   "cell_type": "code",
   "execution_count": 6,
   "id": "de2f018c-6dc8-48e3-a307-8532833a8c8c",
   "metadata": {},
   "outputs": [],
   "source": [
    "def parse_llm_response(response):\n",
    "    try:\n",
    "        entities = re.findall(r\"'\\s*(.*?)\\s*'\", re.search(r\"entityList = \\[(.*?)\\]\", response).group(1))\n",
    "        parameters = re.findall(r\"'\\s*(.*?)\\s*'\", re.search(r\"parameterList = \\[(.*?)\\]\", response).group(1))\n",
    "        start_dates = re.findall(r\"'\\s*(.*?)\\s*'\", re.search(r\"startDate = \\[(.*?)\\]\", response).group(1))\n",
    "        end_dates = re.findall(r\"'\\s*(.*?)\\s*'\", re.search(r\"endDate = \\[(.*?)\\]\", response).group(1))\n",
    "\n",
    "        json_output = []\n",
    "        for entity in entities:\n",
    "            for param, start, end in zip(parameters, start_dates, end_dates):\n",
    "                json_output.append({\n",
    "                    \"entity\": entity,\n",
    "                    \"parameter\": param,\n",
    "                    \"startDate\": start,\n",
    "                    \"endDate\": end\n",
    "                })\n",
    "\n",
    "        return json.dumps(json_output, indent=4)\n",
    "\n",
    "    except Exception as e:\n",
    "        logger.error(f\"Error parsing LLM response: {str(e)}\")\n",
    "        return f\"Error while parsing the response: {str(e)}\"\n"
   ]
  },
  {
   "cell_type": "markdown",
   "id": "60dde22b-0936-496a-8448-f731100f7eaa",
   "metadata": {},
   "source": [
    "# Step 7: Async function to query LLM "
   ]
  },
  {
   "cell_type": "code",
   "execution_count": 7,
   "id": "50df0234-dc98-4779-ad6c-0b76ea56b3a0",
   "metadata": {},
   "outputs": [],
   "source": [
    "async def get_llm_response(prompt: str):\n",
    "    try:\n",
    "        chat_completion = await asyncio.to_thread(client.chat.completions.create, \n",
    "                                                  messages=[{\"role\": \"user\", \"content\": prompt}],\n",
    "                                                  model=\"llama-3.1-8b-instant\")\n",
    "\n",
    "        return chat_completion.choices[0].message.content\n",
    "\n",
    "    except Exception as e:\n",
    "        logger.error(f\"Error during LLM processing: {str(e)}\")\n",
    "        return None"
   ]
  },
  {
   "cell_type": "markdown",
   "id": "27895efd-8861-40b3-92af-37afa0c17930",
   "metadata": {},
   "source": [
    "# Step 8: Main function to handle user input, simulate chatbot conversation flow"
   ]
  },
  {
   "cell_type": "code",
   "execution_count": 54,
   "id": "2289f9bd-99cc-4c57-8173-e71881fa1910",
   "metadata": {},
   "outputs": [],
   "source": [
    "async def main():\n",
    "    # Ask for user input (one question at a time)\n",
    "    user_input = input(\"Enter your query (or type 'exit' to quit): \")\n",
    "\n",
    "    if user_input.lower() == \"exit\":\n",
    "        print(\"Have a good day! Bye!\")\n",
    "        return\n",
    "\n",
    "    # Construct the prompt using user input\n",
    "    prompt = f\"\"\"\n",
    "    You are a data extraction assistant. Given a user query, your task is to extract and structure the following information:\n",
    "\n",
    "    1. **Entity (Company Name)**: Extract the company name(s) mentioned in the query (e.g., Flipkart, Amazon).\n",
    "    2. **Parameter (Performance Metric)**: Extract the performance metric mentioned in the query (e.g., GMV, revenue, profit).\n",
    "    3. **Date Range**:\n",
    "        - Extract the start and end dates of the period for which the metric is requested.\n",
    "        - If expressions like 'quarter', '6 months', 'year', etc., or relative terms are provided, calculate the appropriate dates.\n",
    "        - If expressions like 'last year', 'last month', 'past year', 'last six months', 'last quarter', etc., are used, interpret \"last\" as referring to the **previous calendar period**. \n",
    "            - \"Last year\" or \"Past year\" refers to the **previous calendar year** (e.g., if the current year is 2024, last year refers to 2023).\n",
    "            - \"Last month\" refers to the **previous month** (e.g., if the current month is December 2024, last month refers to November 2024).\n",
    "            - \"Last quarter\" refers to the **previous quarter** (e.g., If current quarter is Q2, it means that last quarter was Q1).\n",
    "            - \"Last six months\" refers to the **six months immediately preceding the current month**.\n",
    "        - If the user query does not explicitly mention the start date and/or end date, assume the following defaults:\n",
    "            - Start Date: Today's date minus one year.\n",
    "            - End Date: Today's date.\n",
    "    \n",
    "    Please provide the output **strictly in the following format**. Do not change the format or provide any extra information:\n",
    "\n",
    "    entityList = ['company1 name','company2 name','company3 name' and so on]\n",
    "    parameterList = ['paramter1 name','parameter 2 name','parameter 3 name' and so on]\n",
    "    startDate = ['yyyy-mm-dd']\n",
    "    endDate = ['yyyy-mm-dd']\n",
    "\n",
    "    Here is the user query you need to process:\n",
    "    \"{user_input}\"\n",
    "    \"\"\"\n",
    "\n",
    "    # Run the asynchronous query\n",
    "    llm_response = await get_llm_response(prompt)\n",
    "\n",
    "    if llm_response:\n",
    "        # Convert LLM response to JSON format\n",
    "        json_output = parse_llm_response(llm_response)\n",
    "        # Display the JSON output\n",
    "        print(json_output)\n",
    "    else:\n",
    "        logger.error(\"Error retrieving LLM response.\")\n"
   ]
  },
  {
   "cell_type": "markdown",
   "id": "0dd9ef9b-16cf-43ce-bf96-699ecbc4aa9d",
   "metadata": {},
   "source": [
    "# Step 9: Execute the Program:\n",
    "1. Run - await main()\n",
    "2. Enter the query and press Shift+Enter\n"
   ]
  },
  {
   "cell_type": "markdown",
   "id": "37adc47b-6e3d-4cb6-b21d-b1a9e17a6ae2",
   "metadata": {},
   "source": [
    "# Examples: Some Sample Queries and their Output"
   ]
  },
  {
   "cell_type": "code",
   "execution_count": 59,
   "id": "42ab544e-2dbb-4cd7-8561-98ea6351db33",
   "metadata": {},
   "outputs": [
    {
     "name": "stdin",
     "output_type": "stream",
     "text": [
      "Enter your query (or type 'exit' to quit):  How much was the profit of Tesla from June to August 2024?\n"
     ]
    },
    {
     "name": "stdout",
     "output_type": "stream",
     "text": [
      "[\n",
      "    {\n",
      "        \"entity\": \"Tesla\",\n",
      "        \"parameter\": \"profit\",\n",
      "        \"startDate\": \"2024-06-01\",\n",
      "        \"endDate\": \"2024-08-31\"\n",
      "    }\n",
      "]\n"
     ]
    }
   ],
   "source": [
    "await main()"
   ]
  },
  {
   "cell_type": "code",
   "execution_count": 19,
   "id": "e4af33cc-aacc-49e2-b6c3-d70dff2e6ab6",
   "metadata": {},
   "outputs": [
    {
     "name": "stdin",
     "output_type": "stream",
     "text": [
      "Enter your query (or type 'exit' to quit):  Give me the quarterly revenue for Apple for the last 3 months.\n"
     ]
    },
    {
     "name": "stdout",
     "output_type": "stream",
     "text": [
      "[\n",
      "    {\n",
      "        \"entity\": \"Apple\",\n",
      "        \"parameter\": \"revenue\",\n",
      "        \"startDate\": \"2024-09-01\",\n",
      "        \"endDate\": \"2024-11-30\"\n",
      "    }\n",
      "]\n"
     ]
    }
   ],
   "source": [
    "await main()"
   ]
  },
  {
   "cell_type": "code",
   "execution_count": 58,
   "id": "e5898ad0-b80b-4eff-be15-0c8283d5c570",
   "metadata": {},
   "outputs": [
    {
     "name": "stdin",
     "output_type": "stream",
     "text": [
      "Enter your query (or type 'exit' to quit):   Compare the profits of Amazon and Flipkart for 2023.\n"
     ]
    },
    {
     "name": "stdout",
     "output_type": "stream",
     "text": [
      "[\n",
      "    {\n",
      "        \"entity\": \"Amazon\",\n",
      "        \"parameter\": \"profits\",\n",
      "        \"startDate\": \"2023-01-01\",\n",
      "        \"endDate\": \"2023-12-31\"\n",
      "    },\n",
      "    {\n",
      "        \"entity\": \"Flipkart\",\n",
      "        \"parameter\": \"profits\",\n",
      "        \"startDate\": \"2023-01-01\",\n",
      "        \"endDate\": \"2023-12-31\"\n",
      "    }\n",
      "]\n"
     ]
    }
   ],
   "source": [
    "await main()"
   ]
  },
  {
   "cell_type": "code",
   "execution_count": 22,
   "id": "13b5d326-a6aa-43a4-8364-4eaead5a5560",
   "metadata": {},
   "outputs": [
    {
     "name": "stdin",
     "output_type": "stream",
     "text": [
      "Enter your query (or type 'exit' to quit):  How does the GMV of Walmart compare to Target over the last year?\n"
     ]
    },
    {
     "name": "stdout",
     "output_type": "stream",
     "text": [
      "[\n",
      "    {\n",
      "        \"entity\": \"Walmart\",\n",
      "        \"parameter\": \"GMV\",\n",
      "        \"startDate\": \"2023-01-01\",\n",
      "        \"endDate\": \"2023-12-31\"\n",
      "    },\n",
      "    {\n",
      "        \"entity\": \"Target\",\n",
      "        \"parameter\": \"GMV\",\n",
      "        \"startDate\": \"2023-01-01\",\n",
      "        \"endDate\": \"2023-12-31\"\n",
      "    }\n",
      "]\n"
     ]
    }
   ],
   "source": [
    "await main()"
   ]
  },
  {
   "cell_type": "code",
   "execution_count": 47,
   "id": "89cd228d-5b01-4d61-8f62-40cc9d3f584d",
   "metadata": {},
   "outputs": [
    {
     "name": "stdin",
     "output_type": "stream",
     "text": [
      "Enter your query (or type 'exit' to quit):   Get me flipkart's gmv for the last one year\n"
     ]
    },
    {
     "name": "stdout",
     "output_type": "stream",
     "text": [
      "[\n",
      "    {\n",
      "        \"entity\": \"Flipkart\",\n",
      "        \"parameter\": \"GMV\",\n",
      "        \"startDate\": \"2023-01-01\",\n",
      "        \"endDate\": \"2023-12-31\"\n",
      "    }\n",
      "]\n"
     ]
    }
   ],
   "source": [
    "await main()"
   ]
  },
  {
   "cell_type": "code",
   "execution_count": 23,
   "id": "8d4a18c9-4e6b-4774-a3e3-a98632aed453",
   "metadata": {},
   "outputs": [
    {
     "name": "stdin",
     "output_type": "stream",
     "text": [
      "Enter your query (or type 'exit' to quit):  What is the growth rate in revenue for Microsoft vs. Google in 2023?\n"
     ]
    },
    {
     "name": "stdout",
     "output_type": "stream",
     "text": [
      "[\n",
      "    {\n",
      "        \"entity\": \"Microsoft\",\n",
      "        \"parameter\": \"growth rate\",\n",
      "        \"startDate\": \"2023-01-01\",\n",
      "        \"endDate\": \"2023-12-31\"\n",
      "    },\n",
      "    {\n",
      "        \"entity\": \"Google\",\n",
      "        \"parameter\": \"growth rate\",\n",
      "        \"startDate\": \"2023-01-01\",\n",
      "        \"endDate\": \"2023-12-31\"\n",
      "    }\n",
      "]\n"
     ]
    }
   ],
   "source": [
    "await main()"
   ]
  },
  {
   "cell_type": "code",
   "execution_count": 24,
   "id": "dbe182d0-bc82-46a7-9084-a533134f5cf1",
   "metadata": {},
   "outputs": [
    {
     "name": "stdin",
     "output_type": "stream",
     "text": [
      "Enter your query (or type 'exit' to quit):  Compare the earnings of Apple and Samsung in the first quarter of 2024.\n"
     ]
    },
    {
     "name": "stdout",
     "output_type": "stream",
     "text": [
      "[\n",
      "    {\n",
      "        \"entity\": \"Apple\",\n",
      "        \"parameter\": \"earnings\",\n",
      "        \"startDate\": \"2024-01-01\",\n",
      "        \"endDate\": \"2024-03-31\"\n",
      "    },\n",
      "    {\n",
      "        \"entity\": \"Samsung\",\n",
      "        \"parameter\": \"earnings\",\n",
      "        \"startDate\": \"2024-01-01\",\n",
      "        \"endDate\": \"2024-03-31\"\n",
      "    }\n",
      "]\n"
     ]
    }
   ],
   "source": [
    "await main()"
   ]
  },
  {
   "cell_type": "code",
   "execution_count": 25,
   "id": "2fdb60ba-a0fc-42f6-8556-c5741d2cd7ea",
   "metadata": {},
   "outputs": [
    {
     "name": "stdin",
     "output_type": "stream",
     "text": [
      "Enter your query (or type 'exit' to quit):  What was Amazon's performance in GMV last year?\n"
     ]
    },
    {
     "name": "stdout",
     "output_type": "stream",
     "text": [
      "[\n",
      "    {\n",
      "        \"entity\": \"Amazon\",\n",
      "        \"parameter\": \"GMV\",\n",
      "        \"startDate\": \"2023-01-01\",\n",
      "        \"endDate\": \"2023-12-31\"\n",
      "    }\n",
      "]\n"
     ]
    }
   ],
   "source": [
    "await main()"
   ]
  },
  {
   "cell_type": "code",
   "execution_count": 57,
   "id": "588d8ccf-1b33-4b18-b64c-235f4f342c89",
   "metadata": {},
   "outputs": [
    {
     "name": "stdin",
     "output_type": "stream",
     "text": [
      "Enter your query (or type 'exit' to quit):  Tell me about Tesla's revenue in the last few months.\n"
     ]
    },
    {
     "name": "stdout",
     "output_type": "stream",
     "text": [
      "[\n",
      "    {\n",
      "        \"entity\": \"Tesla\",\n",
      "        \"parameter\": \"revenue\",\n",
      "        \"startDate\": \"2024-01-01\",\n",
      "        \"endDate\": \"2024-11-30\"\n",
      "    }\n",
      "]\n"
     ]
    }
   ],
   "source": [
    "await main()"
   ]
  },
  {
   "cell_type": "code",
   "execution_count": 30,
   "id": "9613eefa-6e46-493b-9a81-c2a52c1d93c8",
   "metadata": {},
   "outputs": [
    {
     "name": "stdin",
     "output_type": "stream",
     "text": [
      "Enter your query (or type 'exit' to quit):  What was the revenue of Microsoft for the last year?\n"
     ]
    },
    {
     "name": "stdout",
     "output_type": "stream",
     "text": [
      "[\n",
      "    {\n",
      "        \"entity\": \"Microsoft\",\n",
      "        \"parameter\": \"revenue\",\n",
      "        \"startDate\": \"2023-01-01\",\n",
      "        \"endDate\": \"2023-12-31\"\n",
      "    }\n",
      "]\n"
     ]
    }
   ],
   "source": [
    "await main()"
   ]
  },
  {
   "cell_type": "code",
   "execution_count": 56,
   "id": "e7de76cd-fcbe-4431-9b2a-e77130b73ba3",
   "metadata": {},
   "outputs": [
    {
     "name": "stdin",
     "output_type": "stream",
     "text": [
      "Enter your query (or type 'exit' to quit):    Give profit for microsoft, intel and facebook\n"
     ]
    },
    {
     "name": "stdout",
     "output_type": "stream",
     "text": [
      "[\n",
      "    {\n",
      "        \"entity\": \"microsoft\",\n",
      "        \"parameter\": \"profit\",\n",
      "        \"startDate\": \"2023-12-24\",\n",
      "        \"endDate\": \"2024-12-24\"\n",
      "    },\n",
      "    {\n",
      "        \"entity\": \"intel\",\n",
      "        \"parameter\": \"profit\",\n",
      "        \"startDate\": \"2023-12-24\",\n",
      "        \"endDate\": \"2024-12-24\"\n",
      "    },\n",
      "    {\n",
      "        \"entity\": \"facebook\",\n",
      "        \"parameter\": \"profit\",\n",
      "        \"startDate\": \"2023-12-24\",\n",
      "        \"endDate\": \"2024-12-24\"\n",
      "    }\n",
      "]\n"
     ]
    }
   ],
   "source": [
    "await main()"
   ]
  },
  {
   "cell_type": "code",
   "execution_count": null,
   "id": "84350389-fc39-4eb3-95c1-77ab402ccb88",
   "metadata": {},
   "outputs": [],
   "source": []
  }
 ],
 "metadata": {
  "kernelspec": {
   "display_name": "Python 3 (ipykernel)",
   "language": "python",
   "name": "python3"
  },
  "language_info": {
   "codemirror_mode": {
    "name": "ipython",
    "version": 3
   },
   "file_extension": ".py",
   "mimetype": "text/x-python",
   "name": "python",
   "nbconvert_exporter": "python",
   "pygments_lexer": "ipython3",
   "version": "3.12.4"
  }
 },
 "nbformat": 4,
 "nbformat_minor": 5
}
